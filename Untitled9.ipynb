{
 "cells": [
  {
   "cell_type": "code",
   "execution_count": 2,
   "metadata": {},
   "outputs": [],
   "source": [
    "import os\n",
    "import pandas as pd"
   ]
  },
  {
   "cell_type": "code",
   "execution_count": 3,
   "metadata": {},
   "outputs": [
    {
     "data": {
      "text/plain": [
       "'C:\\\\Users\\\\Arijit'"
      ]
     },
     "execution_count": 3,
     "metadata": {},
     "output_type": "execute_result"
    }
   ],
   "source": [
    "os.getcwd()"
   ]
  },
  {
   "cell_type": "code",
   "execution_count": 12,
   "metadata": {},
   "outputs": [],
   "source": [
    "U1S1 = pd.read_csv('Task2/U1S1.txt', sep=' ',\n",
    "                           names=[\"X-coordinate\", \"Y-coordinate\",\"Time stamp\",\"Button status\",\"Azimuth\",\"Altitude\",\"Pressure\"])"
   ]
  },
  {
   "cell_type": "code",
   "execution_count": 5,
   "metadata": {},
   "outputs": [],
   "source": [
    "U1S2 = pd.read_csv('Task2/U1S'+str(2)+'1.txt', sep=' ',\n",
    "                           names=[\"X-coordinate\", \"Y-coordinate\",\"Time stamp\",\"Button status\",\"Azimuth\",\"Altitude\",\"Pressure\"])"
   ]
  },
  {
   "cell_type": "code",
   "execution_count": 39,
   "metadata": {},
   "outputs": [
    {
     "data": {
      "text/plain": [
       "3929"
      ]
     },
     "execution_count": 39,
     "metadata": {},
     "output_type": "execute_result"
    }
   ],
   "source": [
    "U1S1[\"X-coordinate\"][84]-U1S1[\"X-coordinate\"][1]"
   ]
  },
  {
   "cell_type": "code",
   "execution_count": 18,
   "metadata": {},
   "outputs": [],
   "source": [
    "mx=U1S1[\"X-coordinate\"][:-1]"
   ]
  },
  {
   "cell_type": "code",
   "execution_count": 21,
   "metadata": {},
   "outputs": [
    {
     "data": {
      "text/plain": [
       "83    6941\n",
       "Name: X-coordinate, dtype: int64"
      ]
     },
     "execution_count": 21,
     "metadata": {},
     "output_type": "execute_result"
    }
   ],
   "source": [
    "mx[-1:]"
   ]
  },
  {
   "cell_type": "code",
   "execution_count": 9,
   "metadata": {},
   "outputs": [
    {
     "ename": "NameError",
     "evalue": "name 'mx' is not defined",
     "output_type": "error",
     "traceback": [
      "\u001b[1;31m---------------------------------------------------------------------------\u001b[0m",
      "\u001b[1;31mNameError\u001b[0m                                 Traceback (most recent call last)",
      "\u001b[1;32m<ipython-input-9-aa75898c72ff>\u001b[0m in \u001b[0;36m<module>\u001b[1;34m\u001b[0m\n\u001b[1;32m----> 1\u001b[1;33m \u001b[0mmx\u001b[0m\u001b[1;33m\u001b[0m\u001b[1;33m\u001b[0m\u001b[0m\n\u001b[0m\u001b[0;32m      2\u001b[0m \u001b[0mtime\u001b[0m\u001b[1;33m=\u001b[0m\u001b[0mmx\u001b[0m\u001b[1;33m-\u001b[0m\u001b[0mmn\u001b[0m\u001b[1;33m\u001b[0m\u001b[1;33m\u001b[0m\u001b[0m\n\u001b[0;32m      3\u001b[0m \u001b[0mtime\u001b[0m\u001b[1;33m\u001b[0m\u001b[1;33m\u001b[0m\u001b[0m\n",
      "\u001b[1;31mNameError\u001b[0m: name 'mx' is not defined"
     ]
    }
   ],
   "source": [
    "mx\n",
    "time=mx-mn\n",
    "time"
   ]
  },
  {
   "cell_type": "code",
   "execution_count": 20,
   "metadata": {},
   "outputs": [
    {
     "data": {
      "text/html": [
       "<div>\n",
       "<style scoped>\n",
       "    .dataframe tbody tr th:only-of-type {\n",
       "        vertical-align: middle;\n",
       "    }\n",
       "\n",
       "    .dataframe tbody tr th {\n",
       "        vertical-align: top;\n",
       "    }\n",
       "\n",
       "    .dataframe thead th {\n",
       "        text-align: right;\n",
       "    }\n",
       "</style>\n",
       "<table border=\"1\" class=\"dataframe\">\n",
       "  <thead>\n",
       "    <tr style=\"text-align: right;\">\n",
       "      <th></th>\n",
       "      <th>X-coordinate</th>\n",
       "      <th>Y-coordinate</th>\n",
       "      <th>Time stamp</th>\n",
       "      <th>Button status</th>\n",
       "      <th>Azimuth</th>\n",
       "      <th>Altitude</th>\n",
       "      <th>Pressure</th>\n",
       "    </tr>\n",
       "  </thead>\n",
       "  <tbody>\n",
       "    <tr>\n",
       "      <th>1</th>\n",
       "      <td>2933</td>\n",
       "      <td>5678.0</td>\n",
       "      <td>31275775.0</td>\n",
       "      <td>0.0</td>\n",
       "      <td>1550.0</td>\n",
       "      <td>710.0</td>\n",
       "      <td>439.0</td>\n",
       "    </tr>\n",
       "    <tr>\n",
       "      <th>2</th>\n",
       "      <td>2933</td>\n",
       "      <td>5678.0</td>\n",
       "      <td>31275785.0</td>\n",
       "      <td>1.0</td>\n",
       "      <td>1480.0</td>\n",
       "      <td>770.0</td>\n",
       "      <td>420.0</td>\n",
       "    </tr>\n",
       "    <tr>\n",
       "      <th>3</th>\n",
       "      <td>3001</td>\n",
       "      <td>5851.0</td>\n",
       "      <td>31275795.0</td>\n",
       "      <td>1.0</td>\n",
       "      <td>1350.0</td>\n",
       "      <td>830.0</td>\n",
       "      <td>433.0</td>\n",
       "    </tr>\n",
       "    <tr>\n",
       "      <th>4</th>\n",
       "      <td>3114</td>\n",
       "      <td>6139.0</td>\n",
       "      <td>31275805.0</td>\n",
       "      <td>1.0</td>\n",
       "      <td>1350.0</td>\n",
       "      <td>800.0</td>\n",
       "      <td>422.0</td>\n",
       "    </tr>\n",
       "    <tr>\n",
       "      <th>5</th>\n",
       "      <td>3217</td>\n",
       "      <td>6198.0</td>\n",
       "      <td>31275815.0</td>\n",
       "      <td>1.0</td>\n",
       "      <td>1350.0</td>\n",
       "      <td>800.0</td>\n",
       "      <td>415.0</td>\n",
       "    </tr>\n",
       "    <tr>\n",
       "      <th>...</th>\n",
       "      <td>...</td>\n",
       "      <td>...</td>\n",
       "      <td>...</td>\n",
       "      <td>...</td>\n",
       "      <td>...</td>\n",
       "      <td>...</td>\n",
       "      <td>...</td>\n",
       "    </tr>\n",
       "    <tr>\n",
       "      <th>80</th>\n",
       "      <td>8266</td>\n",
       "      <td>5308.0</td>\n",
       "      <td>31276876.0</td>\n",
       "      <td>1.0</td>\n",
       "      <td>1430.0</td>\n",
       "      <td>530.0</td>\n",
       "      <td>561.0</td>\n",
       "    </tr>\n",
       "    <tr>\n",
       "      <th>81</th>\n",
       "      <td>7398</td>\n",
       "      <td>5917.0</td>\n",
       "      <td>31276957.0</td>\n",
       "      <td>0.0</td>\n",
       "      <td>1480.0</td>\n",
       "      <td>530.0</td>\n",
       "      <td>822.0</td>\n",
       "    </tr>\n",
       "    <tr>\n",
       "      <th>82</th>\n",
       "      <td>7093</td>\n",
       "      <td>5611.0</td>\n",
       "      <td>31276967.0</td>\n",
       "      <td>1.0</td>\n",
       "      <td>1490.0</td>\n",
       "      <td>530.0</td>\n",
       "      <td>748.0</td>\n",
       "    </tr>\n",
       "    <tr>\n",
       "      <th>83</th>\n",
       "      <td>6941</td>\n",
       "      <td>5499.0</td>\n",
       "      <td>31276977.0</td>\n",
       "      <td>1.0</td>\n",
       "      <td>1500.0</td>\n",
       "      <td>520.0</td>\n",
       "      <td>749.0</td>\n",
       "    </tr>\n",
       "    <tr>\n",
       "      <th>84</th>\n",
       "      <td>6862</td>\n",
       "      <td>5477.0</td>\n",
       "      <td>31276987.0</td>\n",
       "      <td>1.0</td>\n",
       "      <td>1510.0</td>\n",
       "      <td>510.0</td>\n",
       "      <td>636.0</td>\n",
       "    </tr>\n",
       "  </tbody>\n",
       "</table>\n",
       "<p>84 rows × 7 columns</p>\n",
       "</div>"
      ],
      "text/plain": [
       "    X-coordinate  Y-coordinate  Time stamp  Button status  Azimuth  Altitude  \\\n",
       "1           2933        5678.0  31275775.0            0.0   1550.0     710.0   \n",
       "2           2933        5678.0  31275785.0            1.0   1480.0     770.0   \n",
       "3           3001        5851.0  31275795.0            1.0   1350.0     830.0   \n",
       "4           3114        6139.0  31275805.0            1.0   1350.0     800.0   \n",
       "5           3217        6198.0  31275815.0            1.0   1350.0     800.0   \n",
       "..           ...           ...         ...            ...      ...       ...   \n",
       "80          8266        5308.0  31276876.0            1.0   1430.0     530.0   \n",
       "81          7398        5917.0  31276957.0            0.0   1480.0     530.0   \n",
       "82          7093        5611.0  31276967.0            1.0   1490.0     530.0   \n",
       "83          6941        5499.0  31276977.0            1.0   1500.0     520.0   \n",
       "84          6862        5477.0  31276987.0            1.0   1510.0     510.0   \n",
       "\n",
       "    Pressure  \n",
       "1      439.0  \n",
       "2      420.0  \n",
       "3      433.0  \n",
       "4      422.0  \n",
       "5      415.0  \n",
       "..       ...  \n",
       "80     561.0  \n",
       "81     822.0  \n",
       "82     748.0  \n",
       "83     749.0  \n",
       "84     636.0  \n",
       "\n",
       "[84 rows x 7 columns]"
      ]
     },
     "execution_count": 20,
     "metadata": {},
     "output_type": "execute_result"
    }
   ],
   "source": [
    "U1S1.dropna(axis=0)"
   ]
  },
  {
   "cell_type": "code",
   "execution_count": 21,
   "metadata": {},
   "outputs": [],
   "source": [
    "width=U1S1[\"X-coordinate\"].max()-U1S1[\"X-coordinate\"].min()"
   ]
  },
  {
   "cell_type": "code",
   "execution_count": 22,
   "metadata": {},
   "outputs": [],
   "source": [
    "height=U1S1[\"Y-coordinate\"].max()-U1S1[\"Y-coordinate\"].min()"
   ]
  },
  {
   "cell_type": "code",
   "execution_count": 23,
   "metadata": {},
   "outputs": [
    {
     "data": {
      "text/plain": [
       "8182"
      ]
     },
     "execution_count": 23,
     "metadata": {},
     "output_type": "execute_result"
    }
   ],
   "source": [
    "width"
   ]
  },
  {
   "cell_type": "code",
   "execution_count": 24,
   "metadata": {},
   "outputs": [
    {
     "data": {
      "text/plain": [
       "3641.0"
      ]
     },
     "execution_count": 24,
     "metadata": {},
     "output_type": "execute_result"
    }
   ],
   "source": [
    "height"
   ]
  },
  {
   "cell_type": "code",
   "execution_count": 26,
   "metadata": {},
   "outputs": [],
   "source": [
    "velX=width/time\n",
    "velY=height/time"
   ]
  },
  {
   "cell_type": "code",
   "execution_count": 28,
   "metadata": {},
   "outputs": [
    {
     "data": {
      "text/plain": [
       "3.004125412541254"
      ]
     },
     "execution_count": 28,
     "metadata": {},
     "output_type": "execute_result"
    }
   ],
   "source": [
    "velX"
   ]
  },
  {
   "cell_type": "code",
   "execution_count": 31,
   "metadata": {},
   "outputs": [],
   "source": [
    "pressure=U1S1[\"Pressure\"].mean()"
   ]
  },
  {
   "cell_type": "code",
   "execution_count": 37,
   "metadata": {},
   "outputs": [],
   "source": [
    "pressure\n",
    "data=[width,height,velX,velY,pressure,0]"
   ]
  },
  {
   "cell_type": "code",
   "execution_count": 44,
   "metadata": {},
   "outputs": [],
   "source": [
    "df=pd.DataFrame(data,[\"Width\",\"Height\",\"VelX\",\"VelY\",\"Pressure\",\"Type\"])"
   ]
  },
  {
   "cell_type": "code",
   "execution_count": 10,
   "metadata": {},
   "outputs": [
    {
     "ename": "IndentationError",
     "evalue": "expected an indented block (<ipython-input-10-9bb6d428cc23>, line 4)",
     "output_type": "error",
     "traceback": [
      "\u001b[1;36m  File \u001b[1;32m\"<ipython-input-10-9bb6d428cc23>\"\u001b[1;36m, line \u001b[1;32m4\u001b[0m\n\u001b[1;33m    for i in range(1,41):\u001b[0m\n\u001b[1;37m      ^\u001b[0m\n\u001b[1;31mIndentationError\u001b[0m\u001b[1;31m:\u001b[0m expected an indented block\n"
     ]
    }
   ],
   "source": [
    "x={\"Width\":[],\"Height\":[],\"X-Speed\":[],\"Y-Speed\":[],\"Pressure\":[],\"Type\":[]}\n",
    "\n",
    "for j in range(1,41):\n",
    "for i in range(1,41):\n",
    "    df = pd.read_csv('Task2/U1S'+str(i)+'.txt', sep=' ',\n",
    "                           names=[\"X-coordinate\", \"Y-coordinate\",\"Time stamp\",\"Button status\",\"Azimuth\",\"Altitude\",\"Pressure\"])\n",
    "    df.dropna(axis=0)\n",
    "    mn=df[\"Time stamp\"].min()\n",
    "    mx=df[\"Time stamp\"].max()\n",
    "    time=mx-mn\n",
    "    width=df[\"X-coordinate\"].max()-df[\"X-coordinate\"].min()\n",
    "    height=df[\"Y-coordinate\"].max()-df[\"Y-coordinate\"].min()\n",
    "    velX=width/time\n",
    "    velY=height/time\n",
    "    pressure=df[\"Pressure\"].mean()\n",
    "    sigtype=0\n",
    "    if(i>20):\n",
    "        sigtype=1\n",
    "    x[\"Width\"].append(width)\n",
    "    x[\"Height\"].append(height)\n",
    "    x[\"X-Speed\"].append(velX)\n",
    "    x[\"Y-Speed\"].append(velY)\n",
    "    x[\"Pressure\"].append(pressure)\n",
    "    x[\"Type\"].append(sigtype)\n",
    "    "
   ]
  },
  {
   "cell_type": "code",
   "execution_count": 49,
   "metadata": {},
   "outputs": [],
   "source": [
    "df = pd.DataFrame(x)"
   ]
  },
  {
   "cell_type": "code",
   "execution_count": 94,
   "metadata": {},
   "outputs": [],
   "source": [
    "x={\"Width\":[],\"Height\":[],\"X-Speed\":[],\"Y-Speed\":[],\"Pressure\":[],\"Max Pressure\":[],\"Time\":[],\"Type\":[]}\n",
    "\n",
    "for j in range(1,41):\n",
    "    for i in range(1,41):\n",
    "        df = pd.read_csv('Task2/U'+str(j)+'S'+str(i)+'.txt', sep=' ',\n",
    "                           names=[\"X-coordinate\", \"Y-coordinate\",\"Time stamp\",\"Button status\",\"Azimuth\",\"Altitude\",\"Pressure\"])\n",
    "        df.dropna(axis=0)\n",
    "        mn=df[\"Time stamp\"].min()\n",
    "        mx=df[\"Time stamp\"].max()\n",
    "        time=mx-mn\n",
    "        width=df[\"X-coordinate\"].max()-df[\"X-coordinate\"].min()\n",
    "        height=df[\"Y-coordinate\"].max()-df[\"Y-coordinate\"].min()\n",
    "        xdis=len(df[\"X-coordinate\"])\n",
    "        ydis=len(df[\"Y-coordinate\"])\n",
    "        xd=df[\"X-coordinate\"][xdis-1]-df[\"X-coordinate\"][1]\n",
    "        yd=df[\"Y-coordinate\"][xdis-1]-df[\"Y-coordinate\"][1]\n",
    "        velX=xd/time\n",
    "        velY=yd/time\n",
    "        pressure=df[\"Pressure\"].mean()\n",
    "        mp=df[\"Pressure\"].max()\n",
    "        sigtype=0\n",
    "        if(i>20):\n",
    "            sigtype=1\n",
    "        x[\"Width\"].append(width)\n",
    "        x[\"Height\"].append(height)\n",
    "        x[\"X-Speed\"].append(velX)\n",
    "        x[\"Y-Speed\"].append(velY)\n",
    "        x[\"Pressure\"].append(pressure)\n",
    "        x[\"Max Pressure\"].append(mp)\n",
    "        x[\"Time\"].append(time)\n",
    "        x[\"Type\"].append(sigtype)\n",
    "    \n",
    "    "
   ]
  },
  {
   "cell_type": "code",
   "execution_count": 96,
   "metadata": {},
   "outputs": [],
   "source": [
    "df = pd.DataFrame(x)\n",
    "df1=df"
   ]
  },
  {
   "cell_type": "code",
   "execution_count": 97,
   "metadata": {},
   "outputs": [],
   "source": [
    "y=pd.DataFrame(df1[\"Type\"],columns=[\"Type\"])"
   ]
  },
  {
   "cell_type": "code",
   "execution_count": 98,
   "metadata": {},
   "outputs": [
    {
     "data": {
      "text/html": [
       "<div>\n",
       "<style scoped>\n",
       "    .dataframe tbody tr th:only-of-type {\n",
       "        vertical-align: middle;\n",
       "    }\n",
       "\n",
       "    .dataframe tbody tr th {\n",
       "        vertical-align: top;\n",
       "    }\n",
       "\n",
       "    .dataframe thead th {\n",
       "        text-align: right;\n",
       "    }\n",
       "</style>\n",
       "<table border=\"1\" class=\"dataframe\">\n",
       "  <thead>\n",
       "    <tr style=\"text-align: right;\">\n",
       "      <th></th>\n",
       "      <th>Type</th>\n",
       "    </tr>\n",
       "  </thead>\n",
       "  <tbody>\n",
       "    <tr>\n",
       "      <th>0</th>\n",
       "      <td>0</td>\n",
       "    </tr>\n",
       "    <tr>\n",
       "      <th>1</th>\n",
       "      <td>0</td>\n",
       "    </tr>\n",
       "    <tr>\n",
       "      <th>2</th>\n",
       "      <td>0</td>\n",
       "    </tr>\n",
       "    <tr>\n",
       "      <th>3</th>\n",
       "      <td>0</td>\n",
       "    </tr>\n",
       "    <tr>\n",
       "      <th>4</th>\n",
       "      <td>0</td>\n",
       "    </tr>\n",
       "    <tr>\n",
       "      <th>...</th>\n",
       "      <td>...</td>\n",
       "    </tr>\n",
       "    <tr>\n",
       "      <th>1595</th>\n",
       "      <td>1</td>\n",
       "    </tr>\n",
       "    <tr>\n",
       "      <th>1596</th>\n",
       "      <td>1</td>\n",
       "    </tr>\n",
       "    <tr>\n",
       "      <th>1597</th>\n",
       "      <td>1</td>\n",
       "    </tr>\n",
       "    <tr>\n",
       "      <th>1598</th>\n",
       "      <td>1</td>\n",
       "    </tr>\n",
       "    <tr>\n",
       "      <th>1599</th>\n",
       "      <td>1</td>\n",
       "    </tr>\n",
       "  </tbody>\n",
       "</table>\n",
       "<p>1600 rows × 1 columns</p>\n",
       "</div>"
      ],
      "text/plain": [
       "      Type\n",
       "0        0\n",
       "1        0\n",
       "2        0\n",
       "3        0\n",
       "4        0\n",
       "...    ...\n",
       "1595     1\n",
       "1596     1\n",
       "1597     1\n",
       "1598     1\n",
       "1599     1\n",
       "\n",
       "[1600 rows x 1 columns]"
      ]
     },
     "execution_count": 98,
     "metadata": {},
     "output_type": "execute_result"
    }
   ],
   "source": [
    "y"
   ]
  },
  {
   "cell_type": "code",
   "execution_count": 99,
   "metadata": {},
   "outputs": [
    {
     "data": {
      "text/html": [
       "<div>\n",
       "<style scoped>\n",
       "    .dataframe tbody tr th:only-of-type {\n",
       "        vertical-align: middle;\n",
       "    }\n",
       "\n",
       "    .dataframe tbody tr th {\n",
       "        vertical-align: top;\n",
       "    }\n",
       "\n",
       "    .dataframe thead th {\n",
       "        text-align: right;\n",
       "    }\n",
       "</style>\n",
       "<table border=\"1\" class=\"dataframe\">\n",
       "  <thead>\n",
       "    <tr style=\"text-align: right;\">\n",
       "      <th></th>\n",
       "      <th>Width</th>\n",
       "      <th>Height</th>\n",
       "      <th>X-Speed</th>\n",
       "      <th>Y-Speed</th>\n",
       "      <th>Pressure</th>\n",
       "      <th>Max Pressure</th>\n",
       "      <th>Time</th>\n",
       "    </tr>\n",
       "  </thead>\n",
       "  <tbody>\n",
       "    <tr>\n",
       "      <th>0</th>\n",
       "      <td>-0.255840</td>\n",
       "      <td>0.181242</td>\n",
       "      <td>1.396139</td>\n",
       "      <td>0.781141</td>\n",
       "      <td>0.334928</td>\n",
       "      <td>0.030672</td>\n",
       "      <td>-1.152504</td>\n",
       "    </tr>\n",
       "    <tr>\n",
       "      <th>1</th>\n",
       "      <td>-0.780433</td>\n",
       "      <td>0.021464</td>\n",
       "      <td>1.510120</td>\n",
       "      <td>0.311793</td>\n",
       "      <td>0.154203</td>\n",
       "      <td>-0.181930</td>\n",
       "      <td>-1.167512</td>\n",
       "    </tr>\n",
       "    <tr>\n",
       "      <th>2</th>\n",
       "      <td>-0.750182</td>\n",
       "      <td>0.226782</td>\n",
       "      <td>1.166887</td>\n",
       "      <td>0.121726</td>\n",
       "      <td>0.064618</td>\n",
       "      <td>-0.139409</td>\n",
       "      <td>-1.114985</td>\n",
       "    </tr>\n",
       "    <tr>\n",
       "      <th>3</th>\n",
       "      <td>0.012728</td>\n",
       "      <td>0.131842</td>\n",
       "      <td>0.899235</td>\n",
       "      <td>-0.503463</td>\n",
       "      <td>0.198274</td>\n",
       "      <td>0.030672</td>\n",
       "      <td>-1.160008</td>\n",
       "    </tr>\n",
       "    <tr>\n",
       "      <th>4</th>\n",
       "      <td>-1.085892</td>\n",
       "      <td>0.161173</td>\n",
       "      <td>0.158684</td>\n",
       "      <td>0.372271</td>\n",
       "      <td>-0.245041</td>\n",
       "      <td>0.000300</td>\n",
       "      <td>-1.047451</td>\n",
       "    </tr>\n",
       "    <tr>\n",
       "      <th>...</th>\n",
       "      <td>...</td>\n",
       "      <td>...</td>\n",
       "      <td>...</td>\n",
       "      <td>...</td>\n",
       "      <td>...</td>\n",
       "      <td>...</td>\n",
       "      <td>...</td>\n",
       "    </tr>\n",
       "    <tr>\n",
       "      <th>1595</th>\n",
       "      <td>1.024285</td>\n",
       "      <td>0.787934</td>\n",
       "      <td>-1.125871</td>\n",
       "      <td>-0.651121</td>\n",
       "      <td>1.051390</td>\n",
       "      <td>0.680624</td>\n",
       "      <td>0.063113</td>\n",
       "    </tr>\n",
       "    <tr>\n",
       "      <th>1596</th>\n",
       "      <td>0.261375</td>\n",
       "      <td>0.383472</td>\n",
       "      <td>-1.367083</td>\n",
       "      <td>-0.714824</td>\n",
       "      <td>1.120931</td>\n",
       "      <td>0.680624</td>\n",
       "      <td>-0.222782</td>\n",
       "    </tr>\n",
       "    <tr>\n",
       "      <th>1597</th>\n",
       "      <td>0.318925</td>\n",
       "      <td>-0.027936</td>\n",
       "      <td>-1.198614</td>\n",
       "      <td>-0.494294</td>\n",
       "      <td>0.872370</td>\n",
       "      <td>0.723144</td>\n",
       "      <td>-0.395370</td>\n",
       "    </tr>\n",
       "    <tr>\n",
       "      <th>1598</th>\n",
       "      <td>0.372048</td>\n",
       "      <td>0.438275</td>\n",
       "      <td>-1.184627</td>\n",
       "      <td>-0.950642</td>\n",
       "      <td>0.419006</td>\n",
       "      <td>0.103563</td>\n",
       "      <td>-0.395370</td>\n",
       "    </tr>\n",
       "    <tr>\n",
       "      <th>1599</th>\n",
       "      <td>0.169147</td>\n",
       "      <td>0.411260</td>\n",
       "      <td>-1.241061</td>\n",
       "      <td>-1.052385</td>\n",
       "      <td>0.639344</td>\n",
       "      <td>-0.011849</td>\n",
       "      <td>-0.432889</td>\n",
       "    </tr>\n",
       "  </tbody>\n",
       "</table>\n",
       "<p>1600 rows × 7 columns</p>\n",
       "</div>"
      ],
      "text/plain": [
       "         Width    Height   X-Speed   Y-Speed  Pressure  Max Pressure      Time\n",
       "0    -0.255840  0.181242  1.396139  0.781141  0.334928      0.030672 -1.152504\n",
       "1    -0.780433  0.021464  1.510120  0.311793  0.154203     -0.181930 -1.167512\n",
       "2    -0.750182  0.226782  1.166887  0.121726  0.064618     -0.139409 -1.114985\n",
       "3     0.012728  0.131842  0.899235 -0.503463  0.198274      0.030672 -1.160008\n",
       "4    -1.085892  0.161173  0.158684  0.372271 -0.245041      0.000300 -1.047451\n",
       "...        ...       ...       ...       ...       ...           ...       ...\n",
       "1595  1.024285  0.787934 -1.125871 -0.651121  1.051390      0.680624  0.063113\n",
       "1596  0.261375  0.383472 -1.367083 -0.714824  1.120931      0.680624 -0.222782\n",
       "1597  0.318925 -0.027936 -1.198614 -0.494294  0.872370      0.723144 -0.395370\n",
       "1598  0.372048  0.438275 -1.184627 -0.950642  0.419006      0.103563 -0.395370\n",
       "1599  0.169147  0.411260 -1.241061 -1.052385  0.639344     -0.011849 -0.432889\n",
       "\n",
       "[1600 rows x 7 columns]"
      ]
     },
     "execution_count": 99,
     "metadata": {},
     "output_type": "execute_result"
    }
   ],
   "source": [
    "from sklearn.preprocessing import StandardScaler\n",
    "ss = StandardScaler()\n",
    "df1.drop(\"Type\",axis=1,inplace=True)\n",
    "df_scaled = pd.DataFrame(ss.fit_transform(df1),columns = df1.columns)\n",
    "df_scaled"
   ]
  },
  {
   "cell_type": "code",
   "execution_count": 100,
   "metadata": {},
   "outputs": [],
   "source": [
    "from sklearn.model_selection import train_test_split\n",
    "x_train,x_test,y_train,y_test=train_test_split(df_scaled,y,test_size=0.3,random_state=101)"
   ]
  },
  {
   "cell_type": "code",
   "execution_count": 102,
   "metadata": {},
   "outputs": [],
   "source": [
    "from sklearn import svm\n",
    "clf=svm.SVC()"
   ]
  },
  {
   "cell_type": "code",
   "execution_count": 103,
   "metadata": {},
   "outputs": [
    {
     "name": "stderr",
     "output_type": "stream",
     "text": [
      "C:\\Users\\Arijit\\Anaconda3\\lib\\site-packages\\sklearn\\utils\\validation.py:72: DataConversionWarning: A column-vector y was passed when a 1d array was expected. Please change the shape of y to (n_samples, ), for example using ravel().\n",
      "  return f(**kwargs)\n"
     ]
    },
    {
     "data": {
      "text/plain": [
       "SVC()"
      ]
     },
     "execution_count": 103,
     "metadata": {},
     "output_type": "execute_result"
    }
   ],
   "source": [
    "clf.fit(x_train,y_train)"
   ]
  },
  {
   "cell_type": "code",
   "execution_count": 106,
   "metadata": {},
   "outputs": [],
   "source": [
    "y_pred=clf.predict(x_test)"
   ]
  },
  {
   "cell_type": "code",
   "execution_count": 105,
   "metadata": {},
   "outputs": [],
   "source": [
    "from sklearn.metrics import confusion_matrix"
   ]
  },
  {
   "cell_type": "code",
   "execution_count": 107,
   "metadata": {},
   "outputs": [],
   "source": [
    "cm=confusion_matrix(y_test,y_pred)"
   ]
  },
  {
   "cell_type": "code",
   "execution_count": 108,
   "metadata": {},
   "outputs": [
    {
     "data": {
      "text/plain": [
       "array([[220,  22],\n",
       "       [ 62, 176]], dtype=int64)"
      ]
     },
     "execution_count": 108,
     "metadata": {},
     "output_type": "execute_result"
    }
   ],
   "source": [
    "cm"
   ]
  },
  {
   "cell_type": "code",
   "execution_count": null,
   "metadata": {},
   "outputs": [],
   "source": []
  }
 ],
 "metadata": {
  "kernelspec": {
   "display_name": "Python 3",
   "language": "python",
   "name": "python3"
  },
  "language_info": {
   "codemirror_mode": {
    "name": "ipython",
    "version": 3
   },
   "file_extension": ".py",
   "mimetype": "text/x-python",
   "name": "python",
   "nbconvert_exporter": "python",
   "pygments_lexer": "ipython3",
   "version": "3.7.4"
  }
 },
 "nbformat": 4,
 "nbformat_minor": 4
}
